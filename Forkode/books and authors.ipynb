{
 "cells": [
  {
   "cell_type": "code",
   "execution_count": 3,
   "metadata": {},
   "outputs": [
    {
     "name": "stdout",
     "output_type": "stream",
     "text": [
      "['1', '3']\n"
     ]
    }
   ],
   "source": [
    "some_list=['1', '2', '3', '2', '2']\n",
    "result = []\n",
    "\n",
    "for i in some_list:\n",
    "    if i == '2':\n",
    "        pass\n",
    "    else:\n",
    "        result.append(i)\n",
    "print (result)"
   ]
  },
  {
   "cell_type": "code",
   "execution_count": 4,
   "metadata": {},
   "outputs": [
    {
     "name": "stdout",
     "output_type": "stream",
     "text": [
      "{'1', '2', '3'}\n"
     ]
    }
   ],
   "source": [
    "result = set(some_list)\n",
    "print(result)"
   ]
  },
  {
   "cell_type": "code",
   "execution_count": 5,
   "metadata": {},
   "outputs": [
    {
     "name": "stdout",
     "output_type": "stream",
     "text": [
      "['1', '2', '3']\n"
     ]
    }
   ],
   "source": [
    "result = []\n",
    "for i in some_list:\n",
    "    if i in result:\n",
    "        pass\n",
    "    else:\n",
    "        result.append(i)\n",
    "print(result)\n",
    "        \n",
    "        "
   ]
  },
  {
   "cell_type": "code",
   "execution_count": 6,
   "metadata": {},
   "outputs": [
    {
     "ename": "SyntaxError",
     "evalue": "invalid syntax (<ipython-input-6-ffd7004af77c>, line 1)",
     "output_type": "error",
     "traceback": [
      "\u001b[1;36m  File \u001b[1;32m\"<ipython-input-6-ffd7004af77c>\"\u001b[1;36m, line \u001b[1;32m1\u001b[0m\n\u001b[1;33m    CREATE TABLE author (\u001b[0m\n\u001b[1;37m               ^\u001b[0m\n\u001b[1;31mSyntaxError\u001b[0m\u001b[1;31m:\u001b[0m invalid syntax\n"
     ]
    }
   ],
   "source": [
    "CREATE TABLE author (\n",
    "id int(11) NOT NULL AUTO_INCREMENT,\n",
    "name varchar(255) DEFAULT NULL,\n",
    "birth_date datetime NOT NULL,\n",
    "PRIMARY KEY (id)\n",
    ");"
   ]
  },
  {
   "cell_type": "code",
   "execution_count": 7,
   "metadata": {},
   "outputs": [
    {
     "ename": "SyntaxError",
     "evalue": "invalid syntax (<ipython-input-7-26410c4e92e8>, line 1)",
     "output_type": "error",
     "traceback": [
      "\u001b[1;36m  File \u001b[1;32m\"<ipython-input-7-26410c4e92e8>\"\u001b[1;36m, line \u001b[1;32m1\u001b[0m\n\u001b[1;33m    CREATE TABLE book (\u001b[0m\n\u001b[1;37m               ^\u001b[0m\n\u001b[1;31mSyntaxError\u001b[0m\u001b[1;31m:\u001b[0m invalid syntax\n"
     ]
    }
   ],
   "source": [
    "CREATE TABLE book (\n",
    "id int(11) NOT NULL AUTO_INCREMENT,\n",
    "title varchar(255) DEFAULT NULL,\n",
    "author_id int(11) NOT NULL,\n",
    "PRIMARY KEY (id),\n",
    "CONSTRAINT books_ibfk_1\n",
    "FOREIGN KEY (author_id) REFERENCES author (id)\n",
    ");"
   ]
  },
  {
   "cell_type": "code",
   "execution_count": 23,
   "metadata": {
    "scrolled": true
   },
   "outputs": [
    {
     "ename": "SyntaxError",
     "evalue": "invalid syntax (<ipython-input-23-df3e65f2f4d6>, line 26)",
     "output_type": "error",
     "traceback": [
      "\u001b[1;36m  File \u001b[1;32m\"<ipython-input-23-df3e65f2f4d6>\"\u001b[1;36m, line \u001b[1;32m26\u001b[0m\n\u001b[1;33m    for j in\u001b[0m\n\u001b[1;37m             ^\u001b[0m\n\u001b[1;31mSyntaxError\u001b[0m\u001b[1;31m:\u001b[0m invalid syntax\n"
     ]
    }
   ],
   "source": [
    "from django.db import models\n",
    "\n",
    "class Author(models.Model):\n",
    "    id = models.PositiveIntegerField(primary_key=True)\n",
    "    name = models.CharField(max_length=255)\n",
    "    birth_date = models.DateField()\n",
    "\n",
    "\n",
    "class Book(models.Model):\n",
    "    id = models.PositiveIntegerField(primary_key=True)\n",
    "    title = models.CharField(max_length=255)\n",
    "    author_id = models.ForeignKey(Author)\n",
    "\n",
    "# app это имя проекта в котором созданы объекты author и book\n",
    "from app.models import Author, Book\n",
    "\n",
    "auth = [[1, 'Godwin Lettice', '1906-03-06'], \n",
    "        [2, 'Carie Crewe', '1946-10-20'], \n",
    "        [3, 'Lodovico Savine', '1957-10-29']]\n",
    "\n",
    "books = [[1, 'Support.com Inc.', 1], \n",
    "         [2, 'CareTrust REIT Inc.', 2], \n",
    "         [3, 'Arch Capital Group Ltd.', 3]]\n",
    "\n",
    "\n",
    "myChoose = []\n",
    "\n",
    "for i in len(1, range(auth) + 1):\n",
    "    author_temp = Author.objects.get(id=i)\n",
    "    temp = []\n",
    "    k = 0\n",
    "    for j in len(1, range(books) + 1):\n",
    "        book_temp = Author.objects.get(id=j)\n",
    "        if author_temp[0] == book_temp[2]:\n",
    "            k += 1\n",
    "    temp.append([author_temp[1], k])\n",
    "    myChoose.append(temp)\n",
    "        \n",
    "myChoose.save()\n",
    "\n",
    "\n",
    "# for i in range(len(auth)):\n",
    "#     for j in \n",
    "#         currentBook = Book.objects.filter(author_id__id = i)\n",
    "#         newAuthor.save()"
   ]
  },
  {
   "cell_type": "code",
   "execution_count": 33,
   "metadata": {},
   "outputs": [
    {
     "name": "stdout",
     "output_type": "stream",
     "text": [
      "[1, 'Godwin Lettice', '1906-03-06']\n",
      "[2, 'Carie Crewe', '1946-10-20']\n",
      "[3, 'Lodovico Savine', '1957-10-29']\n"
     ]
    }
   ],
   "source": [
    "auth = [[1, 'Godwin Lettice', '1906-03-06'], \n",
    "        [2, 'Carie Crewe', '1946-10-20'], \n",
    "        [3, 'Lodovico Savine', '1957-10-29']]\n",
    "for i in range(0, len(auth)):\n",
    "    print(auth[i])"
   ]
  },
  {
   "cell_type": "code",
   "execution_count": 18,
   "metadata": {},
   "outputs": [
    {
     "name": "stdout",
     "output_type": "stream",
     "text": [
      "dfsdf\n",
      "sdfsf\n",
      "sdfsdfs\n"
     ]
    }
   ],
   "source": [
    "list = [['dfsdf', 1], ['sdfsf', 2], ['sdfsdfs', 3]]\n",
    "for i in list:\n",
    "    print(i[0])"
   ]
  },
  {
   "cell_type": "code",
   "execution_count": null,
   "metadata": {},
   "outputs": [],
   "source": []
  }
 ],
 "metadata": {
  "kernelspec": {
   "display_name": "Python 3",
   "language": "python",
   "name": "python3"
  },
  "language_info": {
   "codemirror_mode": {
    "name": "ipython",
    "version": 3
   },
   "file_extension": ".py",
   "mimetype": "text/x-python",
   "name": "python",
   "nbconvert_exporter": "python",
   "pygments_lexer": "ipython3",
   "version": "3.6.7"
  }
 },
 "nbformat": 4,
 "nbformat_minor": 2
}
