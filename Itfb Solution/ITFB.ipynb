{
 "cells": [
  {
   "cell_type": "code",
   "execution_count": null,
   "metadata": {},
   "outputs": [],
   "source": [
    "\"\"\"\n",
    "Написать функцию выполняющую сортировку массива строк. \n",
    "На вход функции передается произвольный массив строк, и флаг направления сортировки. \n",
    "Функция должна вернуть результирующий массив.\n",
    "\"\"\"\n",
    "# Исходный массив строк\n",
    "text =  ['Требуемый опыт работы: не требуется',\n",
    "         'Полная занятость, полный день',\n",
    "         'Мы – развивающаяся IT компания', \n",
    "         'занимающаяся разработкой и внедрением комплексов распределенных корпоративных ERP и CRM систем',\n",
    "         'а также аналитических систем и интеграционных решений на базе продуктов Oracle и IBM',\n",
    "         'Мы ищем начинающих специалистов (стажеров)', \n",
    "         'готовых получить интересную и востребованную профессию разработчика Oracle Siebel CRM.',\n",
    "         'Гарантируем Вам интересные, амбициозные задачи, профессиональный рост и дружный коллектив.',\n",
    "         'Успешным кандидатам будет проведен курс обучения по Oracle Siebel CRM', \n",
    "         'с последующим распределением по нашим проектам (при условии положительной сдачи внутреннего экзамена).']\n",
    "# Результат сортировки\n",
    "result = []\n",
    "# Флаг направления: 0 - по убиванию, 1 - по возрастанию\n",
    "direction = 1 \n"
   ]
  },
  {
   "cell_type": "code",
   "execution_count": 116,
   "metadata": {},
   "outputs": [
    {
     "name": "stdout",
     "output_type": "stream",
     "text": [
      "['Гарантируем Вам интересные, амбициозные задачи, профессиональный рост и дружный коллектив.', 'Мы ищем начинающих специалистов (стажеров)', 'Мы – развивающаяся IT компания', 'Полная занятость, полный день', 'Требуемый опыт работы: не требуется', 'Успешным кандидатам будет проведен курс обучения по Oracle Siebel CRM', 'а также аналитических систем и интеграционных решений на базе продуктов Oracle и IBM', 'готовых получить интересную и востребованную профессию разработчика Oracle Siebel CRM.', 'занимающаяся разработкой и внедрением комплексов распределенных корпоративных ERP и CRM систем', 'с последующим распределением по нашим проектам (при условии положительной сдачи внутреннего экзамена).']\n"
     ]
    }
   ],
   "source": [
    "def bubble_sort(arrayToSort, direction=1):\n",
    "    a = arrayToSort\n",
    "    if direction == 1:        \n",
    "        for i in range(len(a),0,-1):\n",
    "            for j in range(1, i):\n",
    "                if a[j-1] > a[j]:\n",
    "                    tmp = a[j-1]\n",
    "                    a[j-1] = a[j]\n",
    "                    a[j] = tmp\n",
    "                    #print (a)\n",
    "        return a\n",
    "    elif direction == 0:\n",
    "        for i in range(len(a),0,-1):\n",
    "            for j in range(1, i):\n",
    "                if a[j-1] < a[j]:\n",
    "                    tmp = a[j-1]\n",
    "                    a[j-1] = a[j]\n",
    "                    a[j] = tmp\n",
    "                    #print (a)\n",
    "        return a\n",
    "result = bubble_sort(text,1)\n",
    "print(result)"
   ]
  },
  {
   "cell_type": "code",
   "execution_count": null,
   "metadata": {},
   "outputs": [],
   "source": [
    "tmp = []\n",
    "j = 0\n",
    "for i in text:\n",
    "    tmp.append([j, i, len(i)])\n",
    "    j += 1\n",
    "print(tmp)"
   ]
  },
  {
   "cell_type": "code",
   "execution_count": null,
   "metadata": {},
   "outputs": [],
   "source": [
    "arrayToSort = tmp\n",
    "def insertion_sort(arrayToSort):\n",
    "    a = []\n",
    "    for i in arrayToSort:\n",
    "        a.append(i[2])\n",
    "    for i in range(len(a),0,-1):\n",
    "        for j in range(1, i):\n",
    "            if a[j-1] > a[j]:\n",
    "                tmp = a[j-1]\n",
    "                a[j-1] = a[j]\n",
    "                a[j] = tmp\n",
    "    return a\n",
    "order = insertion_sort(arrayToSort)"
   ]
  },
  {
   "cell_type": "code",
   "execution_count": null,
   "metadata": {},
   "outputs": [],
   "source": [
    "arrayToSort = text\n",
    "def insertion_sort(arrayToSort):\n",
    "    a = arrayToSort\n",
    "    for i in range(len(a)):\n",
    "        v = a[i]\n",
    "        j = i;\n",
    "        while (a[j-1] > v) and (j > 0):\n",
    "            a[j] = a[j-1]\n",
    "            j = j - 1\n",
    "        a[j] = v\n",
    "    return a\n",
    "print(selection_sort(arrayToSort))"
   ]
  },
  {
   "cell_type": "code",
   "execution_count": null,
   "metadata": {},
   "outputs": [],
   "source": [
    " arrayToSort = tmp\n",
    "def insertion_sort(arrayToSort):\n",
    "    a = arrayToSort\n",
    "    for i in range(len(a),0,-1):\n",
    "        for j in range(1, i):\n",
    "            if a[j-1] > a[j]:\n",
    "                tmp = a[j-1]\n",
    "                a[j-1] = a[j]\n",
    "                a[j] = tmp\n",
    "    return a\n",
    "print(insertion_sort(arrayToSort))"
   ]
  },
  {
   "cell_type": "code",
   "execution_count": 131,
   "metadata": {},
   "outputs": [
    {
     "name": "stdout",
     "output_type": "stream",
     "text": [
      "[[2], [4], [7], [9], [10]]\n"
     ]
    }
   ],
   "source": [
    "# Исходный массив строк\n",
    "text =  ['Требуемый опыт работы: не требуется',\n",
    "         'Полная занятость, полный день',\n",
    "         'Мы – развивающаяся IT компания', \n",
    "         'занимающаяся разработкой и внедрением комплексов распределенных корпоративных ERP и CRM систем',\n",
    "         'а также аналитических систем и интеграционных решений на базе продуктов Oracle и IBM',\n",
    "         'Мы ищем начинающих специалистов (стажеров)', \n",
    "         'готовых получить интересную и востребованную профессию разработчика Oracle Siebel CRM.',\n",
    "         'Гарантируем Вам интересные, амбициозные задачи, профессиональный рост и дружный коллектив.',\n",
    "         'Успешным кандидатам будет проведен курс обучения по Oracle Siebel CRM', \n",
    "         'с последующим распределением по нашим проектам (при условии положительной сдачи внутреннего экзамена).']\n",
    "result = []\n",
    "def searching(text, search):\n",
    "    \"\"\"\n",
    "    Функция ищет в массиве подстроку и возвращает \n",
    "    инднесы элементов где была обнаружена подстрока\n",
    "    \"\"\"\n",
    "    k = 0\n",
    "    for i in text:\n",
    "        k += 1\n",
    "        if search in i:\n",
    "            result.append([k])\n",
    "    return result\n",
    "print(searching(text, 'по'))"
   ]
  },
  {
   "cell_type": "code",
   "execution_count": null,
   "metadata": {},
   "outputs": [],
   "source": []
  }
 ],
 "metadata": {
  "kernelspec": {
   "display_name": "Python 3",
   "language": "python",
   "name": "python3"
  },
  "language_info": {
   "codemirror_mode": {
    "name": "ipython",
    "version": 3
   },
   "file_extension": ".py",
   "mimetype": "text/x-python",
   "name": "python",
   "nbconvert_exporter": "python",
   "pygments_lexer": "ipython3",
   "version": "3.6.7"
  }
 },
 "nbformat": 4,
 "nbformat_minor": 2
}
