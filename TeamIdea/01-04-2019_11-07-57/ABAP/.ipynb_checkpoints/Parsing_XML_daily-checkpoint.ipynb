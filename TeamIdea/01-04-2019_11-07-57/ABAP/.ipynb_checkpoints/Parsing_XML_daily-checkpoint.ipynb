{
 "cells": [
  {
   "cell_type": "code",
   "execution_count": null,
   "metadata": {},
   "outputs": [],
   "source": [
    "from urllib.request import urlopen\n",
    "import xml.etree.ElementTree as ET\n",
    "url = 'http://www.cbr.ru/scripts/XML_daily.asp'\n",
    "page = urlopen(url)\n",
    "with open(\"test.xml\", \"wb\") as xml:\n",
    "    xml.write(page.read())\n",
    "root = ET.parse('test.xml').getroot()"
   ]
  },
  {
   "cell_type": "code",
   "execution_count": 159,
   "metadata": {},
   "outputs": [],
   "source": [
    "name_value = []\n",
    "for tags in root.findall('Valute'):\n",
    "    # access all elements in node\n",
    "    pair = []\n",
    "    for element in tags:\n",
    "        ele_name = element.tag\n",
    "        ele_value = tags.find(element.tag).text\n",
    "        pair.append([ele_name, ele_value])\n",
    "    \n",
    "        \n",
    "#         print(ele_name, ' : ', ele_value)\n",
    "#     print('-' * 30)\n",
    "    name_value.append(pair)\n",
    "        "
   ]
  },
  {
   "cell_type": "code",
   "execution_count": 165,
   "metadata": {},
   "outputs": [
    {
     "name": "stdout",
     "output_type": "stream",
     "text": [
      "Самая дорогая валюта:  89.3212  руб. за один  СДР (специальные права заимствования)\n",
      "Самая дешевая валюта:  0.00760421  руб. за один  Узбекских сумов\n"
     ]
    }
   ],
   "source": [
    "def coma_dot(text):\n",
    "    \"\"\"\n",
    "    Функция для замены запятой на точку в дробных значениях катировок\n",
    "    \"\"\"\n",
    "    if ',' in text:\n",
    "        text = text.replace(',', '.')\n",
    "    return text\n",
    "\n",
    "\n",
    "# max - min максимальное и минимальное значения валют\n",
    "max = 0; min = 1\n",
    "for i in range(len(name_value)):\n",
    "\n",
    "    # val - переобразованное значение валюты в цифровое значение\n",
    "    val = float(coma_dot(name_value[i][4][1]))     \n",
    "\n",
    "    # nom - значение номинала валюты\n",
    "    nom = float(coma_dot(name_value[i][2][1]))\n",
    "    \n",
    "    # nam - имя валюты\n",
    "    nam = name_value[i][3][1]\n",
    "    \n",
    "    if val / nom > max:\n",
    "        max = val / nom\n",
    "        maxname = nam\n",
    "    if val / nom < min:\n",
    "        min = val / nom\n",
    "        minname = nam\n",
    "\n",
    "        \n",
    "print('Самая дорогая валюта: ', max, ' руб. за один ', maxname)\n",
    "print('Самая дешевая валюта: ', min, ' руб. за один ', minname)\n",
    "\n",
    "    #print((name_value[i][2], name_value[i][4], name_value[i][3]))"
   ]
  },
  {
   "cell_type": "code",
   "execution_count": null,
   "metadata": {},
   "outputs": [],
   "source": []
  }
 ],
 "metadata": {
  "kernelspec": {
   "display_name": "Python 3",
   "language": "python",
   "name": "python3"
  }
 },
 "nbformat": 4,
 "nbformat_minor": 2
}
